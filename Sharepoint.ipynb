{
 "cells": [
  {
   "cell_type": "code",
   "execution_count": null,
   "metadata": {},
   "outputs": [],
   "source": [
    "import requests\n",
    "import pprint\n",
    "\n",
    "# SharePoint site URL\n",
    "# site_url = \"https://your-sharepoint-site-url/\n",
    "site_url= \"https://mngenvmcap277115.sharepoint.com/sites/NasaFiles/\"\n",
    "\n",
    "# The SharePoint folder whose files you want to list\n",
    "folder_url = \"/Shared Documents\"\n",
    "client_id = \"\"\n",
    "tenant_id = \"\"\n",
    "client_secret = \"\"\n",
    "\n",
    "site_id = ''  # replace with your actual site id  https://graph.microsoft.com/v1.0/sites?search=contoso\n",
    "drive_id = ''  # replace with your actual drive id  https://graph.microsoft.com/v1.0//sites/{siteId}/drives\n"
   ]
  },
  {
   "cell_type": "code",
   "execution_count": null,
   "metadata": {
    "metadata": {}
   },
   "outputs": [],
   "source": [
    "# Get an access token - Graph API\n",
    "def get_access_token(tenant_id, client_id, client_secret):\n",
    "    url = f\"https://login.microsoftonline.com/{tenant_id}/oauth2/v2.0/token\"\n",
    "\n",
    "    headers = {\n",
    "        'Content-Type': 'application/x-www-form-urlencoded'\n",
    "    }\n",
    "\n",
    "    data = {\n",
    "        'grant_type': 'client_credentials',\n",
    "        'client_id': client_id,\n",
    "        'client_secret': client_secret,\n",
    "        'scope': 'https://graph.microsoft.com/.default'\n",
    "    }\n",
    "\n",
    "    response = requests.post(url, headers=headers, data=data)\n",
    "    response.raise_for_status()  # raises an exception if the request fails\n",
    "\n",
    "    return response.json()['access_token']\n",
    "\n",
    "\n",
    "access_token = get_access_token(tenant_id, client_id, client_secret)\n",
    "print(access_token)\n",
    "\n"
   ]
  },
  {
   "cell_type": "code",
   "execution_count": null,
   "metadata": {
    "metadata": {}
   },
   "outputs": [],
   "source": [
    "#Recursively list all files from a SharePoint folder\n",
    "def list_files(site_id, drive_id, item_id='', files=[]):\n",
    "\n",
    "    access_token = get_access_token(tenant_id, client_id, client_secret)       \n",
    "    print(\"access_token: \" + access_token)\n",
    "    headers = {\n",
    "        'Content-Type': 'application/json',\n",
    "        'Authorization': f'Bearer {access_token}'\n",
    "       }\n",
    "\n",
    "    if item_id:\n",
    "        url = f\"https://graph.microsoft.com/v1.0/sites/{site_id}/drives/{drive_id}/items/{item_id}/children\"\n",
    "    else:\n",
    "        url = f\"https://graph.microsoft.com/v1.0/sites/{site_id}/drives/{drive_id}/root/children\"\n",
    "\n",
    "  \n",
    "    response = requests.get(url, headers=headers)\n",
    "    data = response.json()  \n",
    "    print(data) \n",
    "\n",
    "    values =  data['value'] \n",
    "\n",
    "    for item in values:        \n",
    "        if 'folder' in item:\n",
    "            item_id = item['id']                       \n",
    "            files = list_files(site_id, drive_id, item_id, files)\n",
    "        else:           \n",
    "            files.append(item)\n",
    "\n",
    "    return files\n",
    "\n",
    "# usage\n",
    "files = list_files(site_id, drive_id)\n",
    "for file in files:   \n",
    "    print(file['name'])\n"
   ]
  },
  {
   "cell_type": "code",
   "execution_count": null,
   "metadata": {
    "metadata": {}
   },
   "outputs": [],
   "source": [
    "def download_file(site_id, drive_id, item_id,file_name):\n",
    "\n",
    "    access_token = get_access_token(tenant_id, client_id, client_secret)       \n",
    "\n",
    "    headers = {\n",
    "        'Content-Type': 'application/json',\n",
    "        'Authorization': f'Bearer {access_token}'\n",
    "    }\n",
    "\n",
    "    \n",
    "    url = f\"https://graph.microsoft.com/v1.0/sites/{site_id}/drives/{drive_id}/items/{item_id}/content\"\n",
    "   \n",
    "\n",
    "    response = requests.get(url, headers=headers)\n",
    "   \n",
    "    # Save file\n",
    "    with open(file_name, 'wb') as f:\n",
    "        for chunk in response.iter_content(chunk_size=8192):\n",
    "            if chunk:\n",
    "                f.write(chunk)      \n",
    " # usage\n",
    "\n",
    "download_url = files[0]['@microsoft.graph.downloadUrl']\n",
    "print(download_url)\n",
    "pprint(files[0])\n",
    "item_id = files[0]['id']\n",
    "file_name = files[0]['name']\n",
    "download_file(site_id, drive_id, item_id, file_name)\n",
    "   "
   ]
  }
 ],
 "metadata": {
  "kernelspec": {
   "display_name": "Python 3",
   "language": "python",
   "name": "python3"
  },
  "language_info": {
   "codemirror_mode": {
    "name": "ipython",
    "version": 3
   },
   "file_extension": ".py",
   "mimetype": "text/x-python",
   "name": "python",
   "nbconvert_exporter": "python",
   "pygments_lexer": "ipython3",
   "version": "3.11.9"
  }
 },
 "nbformat": 4,
 "nbformat_minor": 2
}
